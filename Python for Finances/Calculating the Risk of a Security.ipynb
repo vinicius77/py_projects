{
 "cells": [
  {
   "cell_type": "markdown",
   "metadata": {},
   "source": [
    "# Calculating the Risk of a Security"
   ]
  },
  {
   "attachments": {
    "variance_and_deviation_formula.png": {
     "image/png": "[encoded data removed]"
    }
   },
   "cell_type": "markdown",
   "metadata": {},
   "source": [
    "![variance_and_deviation_formula.png](attachment:variance_and_deviation_formula.png)"
   ]
  },
  {
   "cell_type": "code",
   "execution_count": 1,
   "metadata": {},
   "outputs": [],
   "source": [
    "import numpy as np\n",
    "import pandas as pd\n",
    "from pandas_datareader import data as web\n",
    "import matplotlib.pyplot as plt"
   ]
  },
  {
   "cell_type": "code",
   "execution_count": 2,
   "metadata": {},
   "outputs": [],
   "source": [
    "# BEI.DE => BEIERSDORF AG O.N.\n",
    "tickers = [\"PG\", \"BEI.DE\"]\n",
    "\n",
    "securities_data = pd.DataFrame()\n",
    "\n",
    "for ticker in tickers:\n",
    "    securities_data[ticker] = web.DataReader(ticker, data_source=\"yahoo\", start=\"2007-1-1\")[\"Adj Close\"]"
   ]
  },
  {
   "cell_type": "code",
   "execution_count": 3,
   "metadata": {},
   "outputs": [
    {
     "name": "stdout",
     "output_type": "stream",
     "text": [
      "<class 'pandas.core.frame.DataFrame'>\n",
      "DatetimeIndex: 3423 entries, 2007-01-03 to 2020-08-06\n",
      "Data columns (total 2 columns):\n",
      " #   Column  Non-Null Count  Dtype  \n",
      "---  ------  --------------  -----  \n",
      " 0   PG      3423 non-null   float64\n",
      " 1   BEI.DE  3360 non-null   float64\n",
      "dtypes: float64(2)\n",
      "memory usage: 80.2 KB\n"
     ]
    }
   ],
   "source": [
    "securities_data.info()"
   ]
  },
  {
   "cell_type": "code",
   "execution_count": 4,
   "metadata": {},
   "outputs": [],
   "source": [
    "# using log because we will analise the data of the securities separatly \n",
    "securities_return = np.log(securities_data / securities_data.shift(1))"
   ]
  },
  {
   "cell_type": "code",
   "execution_count": 5,
   "metadata": {},
   "outputs": [
    {
     "name": "stdout",
     "output_type": "stream",
     "text": [
      "                  PG    BEI.DE\n",
      "Date                          \n",
      "2007-01-03       NaN       NaN\n",
      "2007-01-04 -0.007621  0.006544\n",
      "2007-01-05 -0.008624 -0.020772\n",
      "2007-01-08  0.002202  0.000202\n",
      "2007-01-09 -0.002517 -0.022858\n",
      "...              ...       ...\n",
      "2020-07-31 -0.002285  0.001979\n",
      "2020-08-03  0.001296  0.016667\n",
      "2020-08-04  0.018863 -0.005851\n",
      "2020-08-05 -0.002619  0.005851\n",
      "2020-08-06 -0.005486 -0.057118\n",
      "\n",
      "[3423 rows x 2 columns]\n"
     ]
    }
   ],
   "source": [
    "print(securities_return)"
   ]
  },
  {
   "cell_type": "markdown",
   "metadata": {},
   "source": [
    "## Procter & Gamble"
   ]
  },
  {
   "cell_type": "markdown",
   "metadata": {},
   "source": [
    "### Daily average return "
   ]
  },
  {
   "cell_type": "code",
   "execution_count": 6,
   "metadata": {},
   "outputs": [
    {
     "data": {
      "text/plain": [
       "0.00033016753715719326"
      ]
     },
     "execution_count": 6,
     "metadata": {},
     "output_type": "execute_result"
    }
   ],
   "source": [
    "securities_return[\"PG\"].mean()"
   ]
  },
  {
   "cell_type": "markdown",
   "metadata": {},
   "source": [
    "### Annualy average return"
   ]
  },
  {
   "cell_type": "code",
   "execution_count": 7,
   "metadata": {},
   "outputs": [
    {
     "data": {
      "text/plain": [
       "0.08254188428929832"
      ]
     },
     "execution_count": 7,
     "metadata": {},
     "output_type": "execute_result"
    }
   ],
   "source": [
    "securities_return[\"PG\"].mean() * 250"
   ]
  },
  {
   "cell_type": "markdown",
   "metadata": {},
   "source": [
    "### Daily Standard Deviation (Risk or Volatility)"
   ]
  },
  {
   "cell_type": "code",
   "execution_count": 8,
   "metadata": {},
   "outputs": [
    {
     "data": {
      "text/plain": [
       "0.011947513469290339"
      ]
     },
     "execution_count": 8,
     "metadata": {},
     "output_type": "execute_result"
    }
   ],
   "source": [
    "# std stands from STandard Deviation\n",
    "securities_return[\"PG\"].std()"
   ]
  },
  {
   "cell_type": "markdown",
   "metadata": {},
   "source": [
    "### Annualy Standard Deviation"
   ]
  },
  {
   "cell_type": "code",
   "execution_count": 9,
   "metadata": {},
   "outputs": [
    {
     "data": {
      "text/plain": [
       "2.9868783673225847"
      ]
     },
     "execution_count": 9,
     "metadata": {},
     "output_type": "execute_result"
    }
   ],
   "source": [
    "securities_return[\"PG\"].std() * 250"
   ]
  },
  {
   "cell_type": "markdown",
   "metadata": {},
   "source": [
    "## Beiersdorf"
   ]
  },
  {
   "cell_type": "code",
   "execution_count": 10,
   "metadata": {},
   "outputs": [
    {
     "data": {
      "text/plain": [
       "0.0002397346302415266"
      ]
     },
     "execution_count": 10,
     "metadata": {},
     "output_type": "execute_result"
    }
   ],
   "source": [
    "# daily average return\n",
    "securities_return[\"BEI.DE\"].mean()"
   ]
  },
  {
   "cell_type": "code",
   "execution_count": 11,
   "metadata": {},
   "outputs": [
    {
     "data": {
      "text/plain": [
       "0.05993365756038165"
      ]
     },
     "execution_count": 11,
     "metadata": {},
     "output_type": "execute_result"
    }
   ],
   "source": [
    "# annualy  average return\n",
    "securities_return[\"BEI.DE\"].mean() * 250"
   ]
  },
  {
   "cell_type": "code",
   "execution_count": 12,
   "metadata": {},
   "outputs": [
    {
     "data": {
      "text/plain": [
       "0.013845660174112952"
      ]
     },
     "execution_count": 12,
     "metadata": {},
     "output_type": "execute_result"
    }
   ],
   "source": [
    "# daily standard deviation\n",
    "securities_return[\"BEI.DE\"].std()"
   ]
  },
  {
   "cell_type": "code",
   "execution_count": 13,
   "metadata": {},
   "outputs": [
    {
     "data": {
      "text/plain": [
       "0.05993365756038165"
      ]
     },
     "execution_count": 13,
     "metadata": {},
     "output_type": "execute_result"
    }
   ],
   "source": [
    "# annualy standard deviation\n",
    "securities_return[\"BEI.DE\"].mean() * 250"
   ]
  },
  {
   "cell_type": "markdown",
   "metadata": {},
   "source": [
    "### Calculating both securities at the same time"
   ]
  },
  {
   "cell_type": "code",
   "execution_count": 14,
   "metadata": {},
   "outputs": [
    {
     "data": {
      "text/plain": [
       "PG        0.00033\n",
       "BEI.DE    0.00024\n",
       "dtype: float64"
      ]
     },
     "execution_count": 14,
     "metadata": {},
     "output_type": "execute_result"
    }
   ],
   "source": [
    "# daily average return\n",
    "securities_return[[\"PG\",\"BEI.DE\"]].mean()"
   ]
  },
  {
   "cell_type": "code",
   "execution_count": 15,
   "metadata": {},
   "outputs": [
    {
     "data": {
      "text/plain": [
       "PG        0.082542\n",
       "BEI.DE    0.059934\n",
       "dtype: float64"
      ]
     },
     "execution_count": 15,
     "metadata": {},
     "output_type": "execute_result"
    }
   ],
   "source": [
    "# annualy average return\n",
    "securities_return[[\"PG\",\"BEI.DE\"]].mean() * 250"
   ]
  },
  {
   "cell_type": "code",
   "execution_count": 16,
   "metadata": {},
   "outputs": [
    {
     "data": {
      "text/plain": [
       "PG        0.011948\n",
       "BEI.DE    0.013846\n",
       "dtype: float64"
      ]
     },
     "execution_count": 16,
     "metadata": {},
     "output_type": "execute_result"
    }
   ],
   "source": [
    "# daily standard deviation\n",
    "securities_return[[\"PG\",\"BEI.DE\"]].std()"
   ]
  },
  {
   "cell_type": "code",
   "execution_count": 17,
   "metadata": {},
   "outputs": [
    {
     "data": {
      "text/plain": [
       "PG        0.188907\n",
       "BEI.DE    0.218919\n",
       "dtype: float64"
      ]
     },
     "execution_count": 17,
     "metadata": {},
     "output_type": "execute_result"
    }
   ],
   "source": [
    "# annualy standard deviation \n",
    "# multiplying for 0.5 represents the square root of the variance\n",
    "# s = √s² (standard deviation = square root of the variance\n",
    "securities_return[[\"PG\",\"BEI.DE\"]].std() * 250 ** 0.5"
   ]
  },
  {
   "attachments": {
    "covarianceMatrix.png": {
     "image/png": "[encoded data removed]"
    }
   },
   "cell_type": "markdown",
   "metadata": {},
   "source": [
    "# Covariance and Correlation\n",
    "![covarianceMatrix.png](attachment:covarianceMatrix.png)"
   ]
  },
  {
   "attachments": {
    "covarianceMatrix_mainDiagonal.png": {
     "image/png": "[encoded data removed]"
    }
   },
   "cell_type": "markdown",
   "metadata": {},
   "source": [
    "**Covariance Matrix** is a representation of the way two or more variables relate to each others.\n",
    "\n",
    "The covariance between the variable and itself is the variance of that same variable.\n",
    "\n",
    "**Graphic:** Along the main diagonal we have the variances of the variables, and the rest of the table is filled with the covariances between them.\n",
    "\n",
    "![covarianceMatrix_mainDiagonal.png](attachment:covarianceMatrix_mainDiagonal.png)\n"
   ]
  },
  {
   "attachments": {
    "covarianceMatrix_example_of_two_stock_prices.png": {
     "image/png": "[encoded data removed]"
    }
   },
   "cell_type": "markdown",
   "metadata": {},
   "source": [
    "In this example, the variables are **two** stock prices (PG, DEI.BE)\n",
    "\n",
    "Therefore, it is expected **2 by 2** _covariance matrix_ with the **variances of each stock along the main diagonal**, and the **covariance between the stocks displayed in the other two cells**.\n",
    "\n",
    "![covarianceMatrix_example_of_two_stock_prices.png](attachment:covarianceMatrix_example_of_two_stock_prices.png)"
   ]
  },
  {
   "cell_type": "markdown",
   "metadata": {},
   "source": [
    "## Calculating the Variance Individually"
   ]
  },
  {
   "cell_type": "markdown",
   "metadata": {},
   "source": [
    "### Daily PG variance"
   ]
  },
  {
   "cell_type": "code",
   "execution_count": 20,
   "metadata": {},
   "outputs": [
    {
     "name": "stdout",
     "output_type": "stream",
     "text": [
      "0.00014274307809887407\n"
     ]
    }
   ],
   "source": [
    "PG_variance = securities_return[\"PG\"].var()\n",
    "print(PG_variance)"
   ]
  },
  {
   "cell_type": "markdown",
   "metadata": {},
   "source": [
    "### Annualy PG variance"
   ]
  },
  {
   "cell_type": "code",
   "execution_count": 23,
   "metadata": {},
   "outputs": [
    {
     "name": "stdout",
     "output_type": "stream",
     "text": [
      "0.03568576952471852\n"
     ]
    }
   ],
   "source": [
    "PG_variance = securities_return[\"PG\"].var() * 250\n",
    "print(PG_variance)"
   ]
  },
  {
   "cell_type": "markdown",
   "metadata": {},
   "source": [
    "### Daily Beiersdorf variance"
   ]
  },
  {
   "cell_type": "code",
   "execution_count": 22,
   "metadata": {},
   "outputs": [
    {
     "name": "stdout",
     "output_type": "stream",
     "text": [
      "0.0001917023056570175\n"
     ]
    }
   ],
   "source": [
    "BEI_variance = securities_return[\"BEI.DE\"].var()\n",
    "print(BEI_variance)"
   ]
  },
  {
   "cell_type": "markdown",
   "metadata": {},
   "source": [
    "### Daily Beiersdorf variance"
   ]
  },
  {
   "cell_type": "code",
   "execution_count": 24,
   "metadata": {},
   "outputs": [
    {
     "name": "stdout",
     "output_type": "stream",
     "text": [
      "0.04792557641425437\n"
     ]
    }
   ],
   "source": [
    "BEI_variance = securities_return[\"BEI.DE\"].var() * 250\n",
    "print(BEI_variance)"
   ]
  },
  {
   "cell_type": "markdown",
   "metadata": {},
   "source": [
    "### Calculating Covariance\n"
   ]
  },
  {
   "cell_type": "markdown",
   "metadata": {},
   "source": [
    "pandas.DataFrame.cov() computes pairwise (two at time) covariance of columns"
   ]
  },
  {
   "cell_type": "markdown",
   "metadata": {},
   "source": [
    "### Daily Covariance Matrix"
   ]
  },
  {
   "cell_type": "code",
   "execution_count": 25,
   "metadata": {},
   "outputs": [
    {
     "name": "stdout",
     "output_type": "stream",
     "text": [
      "              PG    BEI.DE\n",
      "PG      0.000143  0.000045\n",
      "BEI.DE  0.000045  0.000192\n"
     ]
    }
   ],
   "source": [
    "covariance_matrix = securities_return.cov()\n",
    "print(covariance_matrix)"
   ]
  },
  {
   "cell_type": "markdown",
   "metadata": {},
   "source": [
    "### Annual Covariance Matrix"
   ]
  },
  {
   "cell_type": "code",
   "execution_count": 26,
   "metadata": {},
   "outputs": [
    {
     "name": "stdout",
     "output_type": "stream",
     "text": [
      "              PG    BEI.DE\n",
      "PG      0.035686  0.011255\n",
      "BEI.DE  0.011255  0.047926\n"
     ]
    }
   ],
   "source": [
    "covariance_matrix = securities_return.cov() * 250\n",
    "print(covariance_matrix)"
   ]
  },
  {
   "cell_type": "markdown",
   "metadata": {},
   "source": [
    "PG      **0.035686**\n",
    "BEI.DE  **0.047926**\n",
    "\n",
    "Represents the variance of the two stocks"
   ]
  },
  {
   "cell_type": "markdown",
   "metadata": {},
   "source": [
    "PG      **0.011255**\n",
    "BEI.DE  **0.011255**\n",
    "\n",
    "The **covariance between PG and BEI.DE** and the **covariance between BEI.DE and PG** are the **same**"
   ]
  },
  {
   "cell_type": "markdown",
   "metadata": {},
   "source": [
    "### Calculating the Correlation"
   ]
  },
  {
   "cell_type": "markdown",
   "metadata": {},
   "source": [
    "pandas.DataFrame.corr() computes pairwise correlation of columns"
   ]
  },
  {
   "cell_type": "code",
   "execution_count": 27,
   "metadata": {},
   "outputs": [
    {
     "name": "stdout",
     "output_type": "stream",
     "text": [
      "              PG    BEI.DE\n",
      "PG      1.000000  0.271694\n",
      "BEI.DE  0.271694  1.000000\n"
     ]
    }
   ],
   "source": [
    "correlation_matrix = securities_return.corr()\n",
    "print(correlation_matrix)"
   ]
  },
  {
   "attachments": {
    "main_diagonal_result.png": {
     "image/png": "[encoded data removed]"
    }
   },
   "cell_type": "markdown",
   "metadata": {},
   "source": [
    "The **main diagonal** has the **1.00** values because we divided the variances of both stocks (PG. BEI.DE) by the same values, so it makes sense that the movement of the stocks is perfectly correlated with itself.\n",
    "\n",
    "![main_diagonal_result.png](attachment:main_diagonal_result.png)"
   ]
  },
  {
   "attachments": {
    "correlation_formula.png": {
     "image/png": "[encoded data removed]"
    }
   },
   "cell_type": "markdown",
   "metadata": {},
   "source": [
    "### The Correlation Formula\n",
    "\n",
    "![correlation_formula.png](attachment:correlation_formula.png)"
   ]
  },
  {
   "cell_type": "markdown",
   "metadata": {},
   "source": [
    "The **product of the standard deviation of x and the standard deviation of x** (_s(X) * s(X)_) is **the variance of x** (_var(X)_)."
   ]
  },
  {
   "attachments": {
    "correlation_result.png": {
     "image/png": "[encoded data removed]"
    }
   },
   "cell_type": "markdown",
   "metadata": {},
   "source": [
    "The other two cells in the correlation table (**0.271694**) contain the same number. They indicated that the stock return of the two companies are weakly correlately.\n",
    "\n",
    "![correlation_result.png](attachment:correlation_result.png)"
   ]
  },
  {
   "attachments": {
    "correlation_between_retuns.png": {
     "image/png": "[encoded data removed]"
    }
   },
   "cell_type": "markdown",
   "metadata": {},
   "source": [
    "### This is NOT the correlation between the price of the two equities!\n",
    "\n",
    "### This is the correlaction between RETURNS\n",
    "\n",
    "![correlation_between_retuns.png](attachment:correlation_between_retuns.png)"
   ]
  },
  {
   "cell_type": "markdown",
   "metadata": {},
   "source": [
    "### Correlation between the rate of returns\n",
    "\n",
    "- Reflects the difference between prices at different times and focuses on the **returns** of your portfolio rather than on the stock price levels.\n",
    "\n",
    "- As an investor, return is what you care about not the nominal price of the stock\n",
    "- You want to know how much you have earned after investing at certain company not the quoted price of its shares\n"
   ]
  },
  {
   "cell_type": "markdown",
   "metadata": {},
   "source": [
    "### Correlation between the prices \n",
    "- Focuses on stock price levels\n"
   ]
  },
  {
   "cell_type": "markdown",
   "metadata": {},
   "source": [
    "### Dont' fall in the trap to of ANNUALIZING the correlation table!\n",
    "\n",
    "- It **does not** contains average daily values\n",
    "- It shows the relation that exists bewteen the two variables\n"
   ]
  }
 ],
 "metadata": {
  "kernelspec": {
   "display_name": "Python 3",
   "language": "python",
   "name": "python3"
  },
  "language_info": {
   "codemirror_mode": {
    "name": "ipython",
    "version": 3
   },
   "file_extension": ".py",
   "mimetype": "text/x-python",
   "name": "python",
   "nbconvert_exporter": "python",
   "pygments_lexer": "ipython3",
   "version": "3.7.1"
  }
 },
 "nbformat": 4,
 "nbformat_minor": 2
}
