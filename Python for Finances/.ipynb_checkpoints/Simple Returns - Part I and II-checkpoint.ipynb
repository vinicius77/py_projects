{
 "cells": [
  {
   "cell_type": "code",
   "execution_count": 3,
   "metadata": {},
   "outputs": [],
   "source": [
    "import numpy as np\n",
    "from pandas_datareader import data as web\n",
    "import matplotlib.pyplot as plt"
   ]
  },
  {
   "cell_type": "code",
   "execution_count": 17,
   "metadata": {},
   "outputs": [],
   "source": [
    "PG = web.DataReader(\"PG\", data_source=\"yahoo\", start = \"1995-1-1\")"
   ]
  },
  {
   "cell_type": "code",
   "execution_count": 13,
   "metadata": {},
   "outputs": [],
   "source": [
    "#https://finance.yahoo.com/quote/PG"
   ]
  },
  {
   "cell_type": "code",
   "execution_count": 5,
   "metadata": {},
   "outputs": [
    {
     "data": {
      "text/html": [
       "<div>\n",
       "<style scoped>\n",
       "    .dataframe tbody tr th:only-of-type {\n",
       "        vertical-align: middle;\n",
       "    }\n",
       "\n",
       "    .dataframe tbody tr th {\n",
       "        vertical-align: top;\n",
       "    }\n",
       "\n",
       "    .dataframe thead th {\n",
       "        text-align: right;\n",
       "    }\n",
       "</style>\n",
       "<table border=\"1\" class=\"dataframe\">\n",
       "  <thead>\n",
       "    <tr style=\"text-align: right;\">\n",
       "      <th></th>\n",
       "      <th>High</th>\n",
       "      <th>Low</th>\n",
       "      <th>Open</th>\n",
       "      <th>Close</th>\n",
       "      <th>Volume</th>\n",
       "      <th>Adj Close</th>\n",
       "    </tr>\n",
       "    <tr>\n",
       "      <th>Date</th>\n",
       "      <th></th>\n",
       "      <th></th>\n",
       "      <th></th>\n",
       "      <th></th>\n",
       "      <th></th>\n",
       "      <th></th>\n",
       "    </tr>\n",
       "  </thead>\n",
       "  <tbody>\n",
       "    <tr>\n",
       "      <th>2018-01-02</th>\n",
       "      <td>91.930000</td>\n",
       "      <td>90.550003</td>\n",
       "      <td>91.919998</td>\n",
       "      <td>90.650002</td>\n",
       "      <td>7558900.0</td>\n",
       "      <td>83.576973</td>\n",
       "    </tr>\n",
       "    <tr>\n",
       "      <th>2018-01-03</th>\n",
       "      <td>91.089996</td>\n",
       "      <td>90.519997</td>\n",
       "      <td>90.730003</td>\n",
       "      <td>90.540001</td>\n",
       "      <td>5863600.0</td>\n",
       "      <td>83.475563</td>\n",
       "    </tr>\n",
       "    <tr>\n",
       "      <th>2018-01-04</th>\n",
       "      <td>91.769997</td>\n",
       "      <td>90.610001</td>\n",
       "      <td>90.830002</td>\n",
       "      <td>91.180000</td>\n",
       "      <td>6322500.0</td>\n",
       "      <td>84.065620</td>\n",
       "    </tr>\n",
       "    <tr>\n",
       "      <th>2018-01-05</th>\n",
       "      <td>91.300003</td>\n",
       "      <td>90.570000</td>\n",
       "      <td>91.269997</td>\n",
       "      <td>91.239998</td>\n",
       "      <td>5949700.0</td>\n",
       "      <td>84.120949</td>\n",
       "    </tr>\n",
       "    <tr>\n",
       "      <th>2018-01-08</th>\n",
       "      <td>91.769997</td>\n",
       "      <td>90.930000</td>\n",
       "      <td>90.930000</td>\n",
       "      <td>91.720001</td>\n",
       "      <td>4860700.0</td>\n",
       "      <td>84.563507</td>\n",
       "    </tr>\n",
       "  </tbody>\n",
       "</table>\n",
       "</div>"
      ],
      "text/plain": [
       "                 High        Low       Open      Close     Volume  Adj Close\n",
       "Date                                                                        \n",
       "2018-01-02  91.930000  90.550003  91.919998  90.650002  7558900.0  83.576973\n",
       "2018-01-03  91.089996  90.519997  90.730003  90.540001  5863600.0  83.475563\n",
       "2018-01-04  91.769997  90.610001  90.830002  91.180000  6322500.0  84.065620\n",
       "2018-01-05  91.300003  90.570000  91.269997  91.239998  5949700.0  84.120949\n",
       "2018-01-08  91.769997  90.930000  90.930000  91.720001  4860700.0  84.563507"
      ]
     },
     "execution_count": 5,
     "metadata": {},
     "output_type": "execute_result"
    }
   ],
   "source": [
    "PG.head()"
   ]
  },
  {
   "cell_type": "code",
   "execution_count": 6,
   "metadata": {},
   "outputs": [
    {
     "data": {
      "text/html": [
       "<div>\n",
       "<style scoped>\n",
       "    .dataframe tbody tr th:only-of-type {\n",
       "        vertical-align: middle;\n",
       "    }\n",
       "\n",
       "    .dataframe tbody tr th {\n",
       "        vertical-align: top;\n",
       "    }\n",
       "\n",
       "    .dataframe thead th {\n",
       "        text-align: right;\n",
       "    }\n",
       "</style>\n",
       "<table border=\"1\" class=\"dataframe\">\n",
       "  <thead>\n",
       "    <tr style=\"text-align: right;\">\n",
       "      <th></th>\n",
       "      <th>High</th>\n",
       "      <th>Low</th>\n",
       "      <th>Open</th>\n",
       "      <th>Close</th>\n",
       "      <th>Volume</th>\n",
       "      <th>Adj Close</th>\n",
       "    </tr>\n",
       "    <tr>\n",
       "      <th>Date</th>\n",
       "      <th></th>\n",
       "      <th></th>\n",
       "      <th></th>\n",
       "      <th></th>\n",
       "      <th></th>\n",
       "      <th></th>\n",
       "    </tr>\n",
       "  </thead>\n",
       "  <tbody>\n",
       "    <tr>\n",
       "      <th>2020-07-27</th>\n",
       "      <td>126.639999</td>\n",
       "      <td>125.540001</td>\n",
       "      <td>125.709999</td>\n",
       "      <td>126.320000</td>\n",
       "      <td>6464600.0</td>\n",
       "      <td>126.320000</td>\n",
       "    </tr>\n",
       "    <tr>\n",
       "      <th>2020-07-28</th>\n",
       "      <td>128.460007</td>\n",
       "      <td>126.290001</td>\n",
       "      <td>126.370003</td>\n",
       "      <td>127.879997</td>\n",
       "      <td>7644400.0</td>\n",
       "      <td>127.879997</td>\n",
       "    </tr>\n",
       "    <tr>\n",
       "      <th>2020-07-29</th>\n",
       "      <td>129.240005</td>\n",
       "      <td>127.360001</td>\n",
       "      <td>127.559998</td>\n",
       "      <td>128.309998</td>\n",
       "      <td>6702000.0</td>\n",
       "      <td>128.309998</td>\n",
       "    </tr>\n",
       "    <tr>\n",
       "      <th>2020-07-30</th>\n",
       "      <td>132.029999</td>\n",
       "      <td>129.649994</td>\n",
       "      <td>130.660004</td>\n",
       "      <td>131.419998</td>\n",
       "      <td>10399400.0</td>\n",
       "      <td>131.419998</td>\n",
       "    </tr>\n",
       "    <tr>\n",
       "      <th>2020-07-31</th>\n",
       "      <td>130.789993</td>\n",
       "      <td>129.460007</td>\n",
       "      <td>130.007004</td>\n",
       "      <td>130.020004</td>\n",
       "      <td>2550200.0</td>\n",
       "      <td>130.020004</td>\n",
       "    </tr>\n",
       "  </tbody>\n",
       "</table>\n",
       "</div>"
      ],
      "text/plain": [
       "                  High         Low        Open       Close      Volume  \\\n",
       "Date                                                                     \n",
       "2020-07-27  126.639999  125.540001  125.709999  126.320000   6464600.0   \n",
       "2020-07-28  128.460007  126.290001  126.370003  127.879997   7644400.0   \n",
       "2020-07-29  129.240005  127.360001  127.559998  128.309998   6702000.0   \n",
       "2020-07-30  132.029999  129.649994  130.660004  131.419998  10399400.0   \n",
       "2020-07-31  130.789993  129.460007  130.007004  130.020004   2550200.0   \n",
       "\n",
       "             Adj Close  \n",
       "Date                    \n",
       "2020-07-27  126.320000  \n",
       "2020-07-28  127.879997  \n",
       "2020-07-29  128.309998  \n",
       "2020-07-30  131.419998  \n",
       "2020-07-31  130.020004  "
      ]
     },
     "execution_count": 6,
     "metadata": {},
     "output_type": "execute_result"
    }
   ],
   "source": [
    "PG.tail()"
   ]
  },
  {
   "cell_type": "markdown",
   "metadata": {},
   "source": [
    "# Simple Rate of Return"
   ]
  },
  {
   "cell_type": "code",
   "execution_count": 24,
   "metadata": {},
   "outputs": [
    {
     "name": "stdout",
     "output_type": "stream",
     "text": [
      "Date\n",
      "1995-01-03         NaN\n",
      "1995-01-04   -0.008016\n",
      "1995-01-05   -0.014141\n",
      "1995-01-06    0.002049\n",
      "1995-01-09   -0.004090\n",
      "                ...   \n",
      "2020-07-27    0.002858\n",
      "2020-07-28    0.012350\n",
      "2020-07-29    0.003363\n",
      "2020-07-30    0.024238\n",
      "2020-07-31   -0.010501\n",
      "Name: simple_return, Length: 6441, dtype: float64\n"
     ]
    }
   ],
   "source": [
    "PG[\"simple_return\"] = (PG[\"Adj Close\"] / PG[\"Adj Close\"].shift(1)) - 1\n",
    "\n",
    "# an ALTERNATIVE way to calculate the simple return is today's price divided by yesterday's price - 1\n",
    "# shift(1) get the previous date \n",
    "# the argumment of the function determines the number of lags \n",
    "# pandas.DataFrame.shift(# of lags)\n",
    "#(shift index by #)\n",
    "\n",
    "print(PG[\"simple_return\"])"
   ]
  },
  {
   "cell_type": "code",
   "execution_count": 19,
   "metadata": {},
   "outputs": [
    {
     "data": {
      "text/plain": [
       "Date\n",
       "2020-07-27    0.002858\n",
       "2020-07-28    0.012350\n",
       "2020-07-29    0.003363\n",
       "2020-07-30    0.024238\n",
       "2020-07-31   -0.010501\n",
       "Name: simple_return, dtype: float64"
      ]
     },
     "execution_count": 19,
     "metadata": {},
     "output_type": "execute_result"
    }
   ],
   "source": [
    "PG[\"simple_return\"].tail()"
   ]
  },
  {
   "cell_type": "code",
   "execution_count": 9,
   "metadata": {},
   "outputs": [
    {
     "data": {
      "text/plain": [
       "Date\n",
       "2018-01-02         NaN\n",
       "2018-01-03   -0.001213\n",
       "2018-01-04    0.007069\n",
       "2018-01-05    0.000658\n",
       "2018-01-08    0.005261\n",
       "Name: simple_return, dtype: float64"
      ]
     },
     "execution_count": 9,
     "metadata": {},
     "output_type": "execute_result"
    }
   ],
   "source": [
    "PG[\"simple_return\"].head()"
   ]
  },
  {
   "cell_type": "code",
   "execution_count": 21,
   "metadata": {},
   "outputs": [
    {
     "name": "stdout",
     "output_type": "stream",
     "text": [
      "Date\n",
      "1995-01-03         NaN\n",
      "1995-01-04   -0.008016\n",
      "1995-01-05   -0.014141\n",
      "1995-01-06    0.002049\n",
      "1995-01-09   -0.004090\n",
      "                ...   \n",
      "2020-07-27    0.002858\n",
      "2020-07-28    0.012350\n",
      "2020-07-29    0.003363\n",
      "2020-07-30    0.024238\n",
      "2020-07-31   -0.010501\n",
      "Name: simple_return, Length: 6441, dtype: float64\n"
     ]
    }
   ],
   "source": [
    "print (PG[\"simple_return\"])"
   ]
  },
  {
   "cell_type": "markdown",
   "metadata": {},
   "source": [
    "## Simple Returns Part II"
   ]
  },
  {
   "cell_type": "code",
   "execution_count": 26,
   "metadata": {},
   "outputs": [
    {
     "data": {
      "image/png": "[encoded data removed]",
      "text/plain": [
       "<Figure size 576x360 with 1 Axes>"
      ]
     },
     "metadata": {
      "needs_background": "light"
     },
     "output_type": "display_data"
    }
   ],
   "source": [
    "PG[\"simple_return\"].plot(figsize=(8, 5))\n",
    "#size of the graph 8 x 5\n",
    "\n",
    "plt.show()"
   ]
  },
  {
   "cell_type": "code",
   "execution_count": 28,
   "metadata": {},
   "outputs": [
    {
     "name": "stdout",
     "output_type": "stream",
     "text": [
      "0.000574219269881635\n"
     ]
    }
   ],
   "source": [
    "# pandas.DataFrame.mean() - calculates teh average daily rate of return\n",
    "\n",
    "average_returns_daily = PG[\"simple_return\"].mean()\n",
    "\n",
    "print(average_returns_daily)"
   ]
  },
  {
   "cell_type": "code",
   "execution_count": 29,
   "metadata": {},
   "outputs": [
    {
     "name": "stdout",
     "output_type": "stream",
     "text": [
      "0.14355481747040874\n"
     ]
    }
   ],
   "source": [
    "average_returns_annually = PG[\"simple_return\"].mean() * 250\n",
    "\n",
    "# tradings day average 250, 251 or 252\n",
    "\n",
    "print(average_returns_annually)"
   ]
  },
  {
   "cell_type": "code",
   "execution_count": null,
   "metadata": {},
   "outputs": [],
   "source": []
  }
 ],
 "metadata": {
  "kernelspec": {
   "display_name": "Python 3",
   "language": "python",
   "name": "python3"
  },
  "language_info": {
   "codemirror_mode": {
    "name": "ipython",
    "version": 3
   },
   "file_extension": ".py",
   "mimetype": "text/x-python",
   "name": "python",
   "nbconvert_exporter": "python",
   "pygments_lexer": "ipython3",
   "version": "3.7.1"
  }
 },
 "nbformat": 4,
 "nbformat_minor": 2
}
